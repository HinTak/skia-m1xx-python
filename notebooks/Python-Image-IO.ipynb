{
 "cells": [
  {
   "cell_type": "markdown",
   "metadata": {},
   "source": [
    "# Python Image I/O\n",
    "\n",
    "`skia-python` supports several conversion between common data types in Python.\n",
    "\n",
    "- [Image files](#Reading-and-writing-to-image-files)\n",
    "- [NumPy array](#Numpy-array)\n",
    "- [PIL Image](#Converting-image-from/to-PIL)"
   ]
  },
  {
   "cell_type": "code",
   "execution_count": 1,
   "metadata": {},
   "outputs": [],
   "source": [
    "import skia\n",
    "import PIL.Image\n",
    "import numpy as np\n",
    "import io\n",
    "import matplotlib.pyplot as plt\n",
    "\n",
    "from IPython.display import display"
   ]
  },
  {
   "cell_type": "markdown",
   "metadata": {},
   "source": [
    "## Reading and writing to image files"
   ]
  },
  {
   "cell_type": "markdown",
   "metadata": {},
   "source": [
    "`skia.Image` is the primary read-only image data structure in Skia. `skia.Image` can be read from an image file:"
   ]
  },
  {
   "cell_type": "code",
   "execution_count": 2,
   "metadata": {
    "scrolled": true
   },
   "outputs": [
    {
     "data": {
      "image/png": "[encoded data removed]",
      "text/plain": [
       "Image(100, 100, ColorType.kRGBA_8888_ColorType, AlphaType.kPremul_AlphaType)"
      ]
     },
     "metadata": {},
     "output_type": "display_data"
    }
   ],
   "source": [
    "image = skia.Image.open('../skia/resources/images/rainbow-gradient.png')\n",
    "\n",
    "display(image)"
   ]
  },
  {
   "cell_type": "markdown",
   "metadata": {},
   "source": [
    "Or, can be exported via `skia.Surface.makeImageSnapshot` call:"
   ]
  },
  {
   "cell_type": "code",
   "execution_count": 3,
   "metadata": {},
   "outputs": [
    {
     "data": {
      "image/png": "[encoded data removed]",
      "text/plain": [
       "Image(100, 100, ColorType.kRGBA_8888_ColorType, AlphaType.kPremul_AlphaType)"
      ]
     },
     "metadata": {},
     "output_type": "display_data"
    }
   ],
   "source": [
    "surface = skia.Surface(100, 100)\n",
    "with surface as canvas:\n",
    "    canvas.clear(skia.ColorYELLOW)\n",
    "    paint = skia.Paint(AntiAlias=True, Color=skia.ColorCYAN)\n",
    "    canvas.drawCircle((50, 50), 25, paint)\n",
    "image = surface.makeImageSnapshot()\n",
    "\n",
    "display(image)"
   ]
  },
  {
   "cell_type": "markdown",
   "metadata": {},
   "source": [
    "The following resizes the image:"
   ]
  },
  {
   "cell_type": "code",
   "execution_count": 4,
   "metadata": {},
   "outputs": [
    {
     "data": {
      "image/png": "[encoded data removed]",
      "text/plain": [
       "Image(50, 50, ColorType.kRGBA_8888_ColorType, AlphaType.kPremul_AlphaType)"
      ]
     },
     "metadata": {},
     "output_type": "display_data"
    }
   ],
   "source": [
    "display(image.resize(50, 50))"
   ]
  },
  {
   "cell_type": "markdown",
   "metadata": {},
   "source": [
    "Write to a specific image format is available via `skia.Image.save` or `skia.Image.encodeToImage`:"
   ]
  },
  {
   "cell_type": "code",
   "execution_count": 5,
   "metadata": {},
   "outputs": [
    {
     "data": {
      "text/plain": [
       "b'RIFFd\\x03\\x00\\x00WEBPVP8L'"
      ]
     },
     "execution_count": 5,
     "metadata": {},
     "output_type": "execute_result"
    }
   ],
   "source": [
    "import os\n",
    "import io\n",
    "import tempfile\n",
    "\n",
    "with tempfile.TemporaryDirectory() as t:\n",
    "    image.save(os.path.join(t, 'output.png'), skia.kPNG)\n",
    "    image.save(os.path.join(t, 'output.jpg'), skia.kJPEG, quality=95)\n",
    "    \n",
    "data = image.encodeToData(skia.kWEBP, 100)\n",
    "bytes(data)[:16]"
   ]
  },
  {
   "cell_type": "markdown",
   "metadata": {},
   "source": [
    "## NumPy array\n",
    "\n",
    "`skia.Image` supports NumPy array import and export via `fromarray` and `toarray` methods:"
   ]
  },
  {
   "cell_type": "code",
   "execution_count": 6,
   "metadata": {},
   "outputs": [
    {
     "data": {
      "image/png": "[encoded data removed]",
      "text/plain": [
       "Image(64, 64, ColorType.kRGBA_8888_ColorType, AlphaType.kUnpremul_AlphaType)"
      ]
     },
     "metadata": {},
     "output_type": "display_data"
    }
   ],
   "source": [
    "array = np.zeros((64, 64, 4), dtype=np.uint8)\n",
    "array[24:48, 24:48, 3] = 255\n",
    "\n",
    "image = skia.Image.fromarray(array)\n",
    "display(image)\n",
    "\n",
    "image = skia.Image.open('../skia/resources/images/rainbow-gradient.png')\n",
    "array = image.toarray()"
   ]
  },
  {
   "cell_type": "markdown",
   "metadata": {},
   "source": [
    "Also, NumPy arrays can be directly used as a pixel buffer behind `skia.Canvas`. This approach enables direct drawing into the given array:"
   ]
  },
  {
   "cell_type": "code",
   "execution_count": 7,
   "metadata": {
    "scrolled": true
   },
   "outputs": [
    {
     "data": {
      "image/png": "[encoded data removed]",
      "text/plain": [
       "<Figure size 144x144 with 1 Axes>"
      ]
     },
     "metadata": {
      "needs_background": "light"
     },
     "output_type": "display_data"
    }
   ],
   "source": [
    "array = np.zeros((256, 256, 4), dtype=np.uint8)\n",
    "\n",
    "with skia.Surface(array) as canvas:\n",
    "    paint = skia.Paint(AntiAlias=True, Color=skia.ColorCYAN)\n",
    "    canvas.drawCircle((128, 128), 64, paint)\n",
    "\n",
    "plt.figure(figsize=(2, 2))\n",
    "plt.imshow(array)\n",
    "plt.show()"
   ]
  },
  {
   "cell_type": "markdown",
   "metadata": {},
   "source": [
    "One pitfall is that generic pixel format is usually unpremultiplied alpha (`skia.kUnpremul_AlphaType`), but skia defaults to premultiplied alpha (`skia.kPremul_AlphaType`). Don't forget to specify `alphaType` parameter when needed."
   ]
  },
  {
   "cell_type": "markdown",
   "metadata": {},
   "source": [
    "Many APIs in skia do not copy buffer data but only shares a reference. Therefore, buffer lifetime should be carefully taken into account when converting between different format. The following results in crash.\n",
    "\n",
    "```python\n",
    "array = np.zeros((64, 64, 4), dtype=np.uint8)\n",
    "surface = skia.Surface(array)\n",
    "del array\n",
    "\n",
    "surface.makeImageSnapshot()  # This will crash\n",
    "```"
   ]
  },
  {
   "cell_type": "markdown",
   "metadata": {},
   "source": [
    "Canvas or surface can also export to numpy array. This is convenient when surface backend is not raster."
   ]
  },
  {
   "cell_type": "code",
   "execution_count": 8,
   "metadata": {
    "scrolled": true
   },
   "outputs": [
    {
     "data": {
      "image/png": "[encoded data removed]",
      "text/plain": [
       "<Figure size 288x576 with 2 Axes>"
      ]
     },
     "metadata": {
      "needs_background": "light"
     },
     "output_type": "display_data"
    }
   ],
   "source": [
    "surface = skia.Surface(128, 128)\n",
    "canvas = surface.getCanvas()\n",
    "paint = skia.Paint(AntiAlias=True, Color=skia.ColorCYAN)\n",
    "canvas.drawCircle((64, 64), 32, paint)\n",
    "\n",
    "plt.figure(figsize=(4, 8))\n",
    "plt.subplot(1, 2, 1), plt.imshow(canvas.toarray())\n",
    "plt.subplot(1, 2, 2), plt.imshow(surface.toarray())\n",
    "plt.show()"
   ]
  },
  {
   "cell_type": "markdown",
   "metadata": {},
   "source": [
    "## Converting image from/to PIL\n",
    "\n",
    "It is possible to directly convert `skia.Image`, `skia.Bitmap` or `skia.Pixmap` to `PIL.Image` using `fromarray` method.\n",
    "\n",
    "Note that `PIL.Image` supports limited image modes. Apart from `skia.kRGBA_8888_ColorType` format, many pixel formats in skia are not compatible.\n",
    "\n",
    "The default alpha type of `skia.Image` is `skia.kPremul_AlphaType`, whereas the default color type is platform dependent.\n",
    "To convert `skia.Image` to `PIL.Image`, make sure to first convert the alpha type and the color type before calling `fromarray`:"
   ]
  },
  {
   "cell_type": "code",
   "execution_count": 9,
   "metadata": {
    "scrolled": true
   },
   "outputs": [],
   "source": [
    "skia_image = skia.Image.open('../skia/resources/images/rainbow-gradient.png')\n",
    "\n",
    "pil_image = PIL.Image.fromarray(skia_image.convert(alphaType=skia.kUnpremul_AlphaType, colorType=skia.kRGBA_8888_ColorType))"
   ]
  },
  {
   "cell_type": "markdown",
   "metadata": {},
   "source": [
    "Alternatively, use `RGBa` (premultiplied alpha mode) in `PIL.Image`:"
   ]
  },
  {
   "cell_type": "code",
   "execution_count": 10,
   "metadata": {},
   "outputs": [],
   "source": [
    "pil_image = PIL.Image.fromarray(skia_image, 'RGBa')"
   ]
  },
  {
   "cell_type": "markdown",
   "metadata": {},
   "source": [
    "Image is also convertible via encoded image buffer:"
   ]
  },
  {
   "cell_type": "code",
   "execution_count": 11,
   "metadata": {},
   "outputs": [],
   "source": [
    "with io.BytesIO(skia_image.encodeToData()) as f:\n",
    "    pil_image = PIL.Image.open(f)\n",
    "    pil_image.load()  # Ensure to make a copy of buffer"
   ]
  },
  {
   "cell_type": "markdown",
   "metadata": {},
   "source": [
    "Importing a `PIL.Image` requires conversion to supported color type:"
   ]
  },
  {
   "cell_type": "code",
   "execution_count": 12,
   "metadata": {},
   "outputs": [],
   "source": [
    "pil_image = PIL.Image.open('../skia/resources/images/rainbow-gradient.png')\n",
    "skia_image = skia.Image.frombytes(\n",
    "    pil_image.convert('RGBA').tobytes(), pil_image.size, skia.kRGBA_8888_ColorType)\n",
    "\n",
    "skia_image = skia.Image.frombytes(\n",
    "    pil_image.convert('RGBX').tobytes(), pil_image.size, skia.kRGB_888x_ColorType)\n",
    "\n",
    "skia_image = skia.Image.frombytes(\n",
    "    pil_image.convert('L').tobytes(), pil_image.size, skia.kGray_8_ColorType)"
   ]
  },
  {
   "cell_type": "markdown",
   "metadata": {},
   "source": [
    "Alternatively, it is possible to use encoded bytes:"
   ]
  },
  {
   "cell_type": "code",
   "execution_count": 13,
   "metadata": {},
   "outputs": [],
   "source": [
    "pil_image = PIL.Image.open('../skia/resources/images/rainbow-gradient.png')\n",
    "\n",
    "with io.BytesIO() as f:\n",
    "    pil_image.save(f, 'png')\n",
    "    skia_image = skia.Image.open(f)"
   ]
  }
 ],
 "metadata": {
  "kernelspec": {
   "display_name": "Python 3",
   "language": "python",
   "name": "python3"
  },
  "language_info": {
   "codemirror_mode": {
    "name": "ipython",
    "version": 3
   },
   "file_extension": ".py",
   "mimetype": "text/x-python",
   "name": "python",
   "nbconvert_exporter": "python",
   "pygments_lexer": "ipython3",
   "version": "3.7.6"
  }
 },
 "nbformat": 4,
 "nbformat_minor": 4
}
